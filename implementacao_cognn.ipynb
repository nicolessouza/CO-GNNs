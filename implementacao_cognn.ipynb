{
 "cells": [
  {
   "cell_type": "markdown",
   "metadata": {},
   "source": [
    "# Definindo a Action Network"
   ]
  },
  {
   "cell_type": "code",
   "execution_count": 19,
   "metadata": {},
   "outputs": [],
   "source": [
    "import torch\n",
    "from torch.nn import ModuleList, Linear, ReLU, Sequential, Softmax\n",
    "from torch_geometric.nn import MessagePassing\n",
    "from torch_geometric.utils import softmax\n",
    "\n",
    "class ActionNetwork(MessagePassing):\n",
    "    def __init__(self, in_channels, hidden_dim, num_hidden_layers, out_channels=4):\n",
    "        \"\"\"\n",
    "        Inicializa a rede de ação para CO-GNN.\n",
    "\n",
    "        Parâmetros:\n",
    "            in_channels (int): Dimensão de entrada dos estados dos nós.\n",
    "            hidden_dim (int): Dimensão das camadas ocultas.\n",
    "            num_hidden_layers (int): Número de camadas ocultas na rede.\n",
    "            out_channels (int): Número de ações possíveis, padrão é 4 (S, L, B, I).\n",
    "        \"\"\"\n",
    "        super(ActionNetwork, self).__init__(aggr='mean')  # Usando agregação média por padrão.\n",
    "        \n",
    "        self.layers = ModuleList()\n",
    "        \n",
    "        # Primeira camada oculta que transforma a entrada para a dimensão oculta.\n",
    "        self.layers.append(Linear(in_channels, hidden_dim))\n",
    "        self.layers.append(ReLU())\n",
    "\n",
    "        # Camadas ocultas intermediárias.\n",
    "        for _ in range(num_hidden_layers - 1):\n",
    "            self.layers.append(Linear(hidden_dim, hidden_dim))\n",
    "            self.layers.append(ReLU())\n",
    "\n",
    "        # Camada de saída que mapeia a última camada oculta para as ações.\n",
    "        self.layers.append(Linear(hidden_dim, out_channels))\n",
    "        self.softmax = Softmax(dim=1)\n",
    "\n",
    "    def forward(self, x, edge_index):\n",
    "        \"\"\"\n",
    "        Propagação para frente que processa os estados dos nós e retorna as probabilidades das ações.\n",
    "\n",
    "        Parâmetros:\n",
    "            x (Tensor): Estados dos nós com shape [num_nodes, in_channels].\n",
    "            edge_index (LongTensor): Índices das arestas no formato COO (2, num_edges).\n",
    "\n",
    "        Retorna:\n",
    "            Tensor: Probabilidades das ações para cada nó com shape [num_nodes, out_channels].\n",
    "        \"\"\"\n",
    "        return self.propagate(edge_index, size=(x.size(0), x.size(0)), x=x)\n",
    "\n",
    "    def message(self, x_j):\n",
    "        \"\"\"\n",
    "        Cria mensagens para serem enviadas aos nós centrais na agregação.\n",
    "\n",
    "        Parâmetros:\n",
    "            x_j (Tensor): Estados dos nós vizinhos.\n",
    "        \n",
    "        Retorna:\n",
    "            Tensor: Mensagens enviadas aos nós.\n",
    "        \"\"\"\n",
    "        for layer in self.layers:\n",
    "            x_j = layer(x_j) if not isinstance(layer, ReLU) else layer(x_j)\n",
    "        return x_j\n",
    "\n",
    "    def update(self, aggr_out):\n",
    "        \"\"\"\n",
    "        Atualiza os estados dos nós depois da agregação.\n",
    "\n",
    "        Parâmetros:\n",
    "            aggr_out (Tensor): Saída da agregação das mensagens dos vizinhos.\n",
    "\n",
    "        Retorna:\n",
    "            Tensor: Probabilidades das ações atualizadas com softmax aplicado.\n",
    "        \"\"\"\n",
    "        return self.softmax(aggr_out)\n"
   ]
  },
  {
   "cell_type": "markdown",
   "metadata": {},
   "source": [
    "## Testando a Action Network"
   ]
  },
  {
   "cell_type": "code",
   "execution_count": 20,
   "metadata": {},
   "outputs": [
    {
     "name": "stdout",
     "output_type": "stream",
     "text": [
      "Probabilidades das Ações para cada nó:\n",
      "tensor([[0.1894, 0.1874, 0.2964, 0.3268],\n",
      "        [0.1866, 0.1871, 0.2893, 0.3370],\n",
      "        [0.1868, 0.1853, 0.2882, 0.3397],\n",
      "        [0.1888, 0.1882, 0.2965, 0.3265]], grad_fn=<SoftmaxBackward0>)\n"
     ]
    }
   ],
   "source": [
    "import torch\n",
    "from torch_geometric.data import Data\n",
    "\n",
    "# Criar dados de exemplo para o grafo\n",
    "num_nodes = 4  # número de nós no grafo\n",
    "num_node_features = 3  # número de características por nó\n",
    "\n",
    "# Estados dos nós: tensor aleatório [num_nodes, num_node_features]\n",
    "x = torch.rand((num_nodes, num_node_features))\n",
    "\n",
    "# Conexões (arestas) entre os nós: formato COO (2, num_edges)\n",
    "edge_index = torch.tensor([[0, 1, 2, 3, 0, 2],\n",
    "                           [1, 0, 3, 2, 2, 0]], dtype=torch.long)\n",
    "\n",
    "# Criar instância da ActionNetwork\n",
    "action_net = ActionNetwork(in_channels=num_node_features, hidden_dim=5, num_hidden_layers=2)\n",
    "\n",
    "# Passar os dados pelo modelo\n",
    "action_probabilities = action_net(x, edge_index)\n",
    "\n",
    "# Imprimir as probabilidades das ações para cada nó\n",
    "print(\"Probabilidades das Ações para cada nó:\")\n",
    "print(action_probabilities)\n"
   ]
  },
  {
   "cell_type": "markdown",
   "metadata": {},
   "source": [
    "# Definindo a Environment Network"
   ]
  },
  {
   "cell_type": "code",
   "execution_count": 26,
   "metadata": {},
   "outputs": [],
   "source": [
    "import torch\n",
    "from torch.nn import ModuleList, Linear, GELU\n",
    "from torch_geometric.nn import GCNConv\n",
    "\n",
    "class EnvironmentNetwork(torch.nn.Module):\n",
    "    def __init__(self, in_channels, hidden_dim, out_channels, num_layers):\n",
    "        \"\"\"\n",
    "        Inicializa a rede de ambiente para a CO-GNN.\n",
    "        \n",
    "        Parâmetros:\n",
    "            in_channels (int): Número de características de entrada por nó.\n",
    "            hidden_dim (int): Dimensão das camadas ocultas.\n",
    "            out_channels (int): Dimensão da camada de saída.\n",
    "            num_layers (int): Número de camadas GCN na rede.\n",
    "        \n",
    "        A rede usa camadas GCN seguidas de funções de ativação GELU.\n",
    "        \"\"\"\n",
    "        super(EnvironmentNetwork, self).__init__()\n",
    "        self.layers = ModuleList()\n",
    "        \n",
    "        self.layers.append(GCNConv(in_channels, hidden_dim))\n",
    "\n",
    "        # Camadas GCN ocultas intermediárias\n",
    "        for _ in range(num_layers - 2):\n",
    "            self.layers.append(GCNConv(hidden_dim, hidden_dim))\n",
    "        \n",
    "        # Camada GCN final para transformar para a dimensão de saída\n",
    "        if num_layers > 1:\n",
    "            self.layers.append(GCNConv(hidden_dim, out_channels))\n",
    "        else:\n",
    "            # Se houver apenas uma camada, mapeie diretamente da entrada para a saída\n",
    "            self.layers.append(GCNConv(in_channels, out_channels))\n",
    "        \n",
    "        # Função de ativação GELU após cada camada GCN, exceto a última\n",
    "        self.activation = GELU()\n",
    "\n",
    "    def forward(self, x, edge_index):\n",
    "        \"\"\"\n",
    "        Propagação para frente da rede de ambiente.\n",
    "\n",
    "        Parâmetros:\n",
    "            x (Tensor): Características dos nós, shape [num_nodes, num_features].\n",
    "            edge_index (Tensor): Arestas do grafo no formato COO, shape [2, num_edges].\n",
    "\n",
    "        Retorna:\n",
    "            Tensor: Representações dos nós atualizadas após L camadas, shape [num_nodes, out_channels].\n",
    "    \n",
    "        \"\"\"\n",
    "        for layer in self.layers[:-1]:\n",
    "            x = self.activation(layer(x, edge_index))\n",
    "        \n",
    "        # Apply the last layer without activation to get the final output dimensions\n",
    "        x = self.layers[-1](x, edge_index)\n",
    "        return x\n"
   ]
  },
  {
   "cell_type": "markdown",
   "metadata": {},
   "source": [
    "## Testando a environment network"
   ]
  },
  {
   "cell_type": "code",
   "execution_count": 29,
   "metadata": {},
   "outputs": [
    {
     "name": "stdout",
     "output_type": "stream",
     "text": [
      "Node Features:\n",
      "tensor([[0.3536, 0.8208, 0.5109],\n",
      "        [0.5799, 0.3828, 0.7297],\n",
      "        [0.4599, 0.9076, 0.8699],\n",
      "        [0.8516, 0.0352, 0.0850]])\n",
      "Edge Index:\n",
      "tensor([[0, 1, 2, 3, 0, 2],\n",
      "        [1, 0, 3, 2, 2, 0]])\n",
      "Actions chosen for each node:\n",
      "tensor([1, 1, 1, 1])\n",
      "Updated node features:\n",
      "tensor([[-0.5538, -0.1786,  0.2570],\n",
      "        [-0.2217, -0.0739,  0.0952],\n",
      "        [-0.5823, -0.1676,  0.2849],\n",
      "        [-0.0650,  0.0009,  0.2418]], grad_fn=<AddBackward0>)\n"
     ]
    }
   ],
   "source": [
    "import torch\n",
    "from torch_geometric.data import Data\n",
    "\n",
    "# Assume that ActionNetwork and EnvironmentNetwork are already imported and available\n",
    "\n",
    "# Define a simple graph\n",
    "num_nodes = 4\n",
    "num_features = 3\n",
    "x = torch.rand((num_nodes, num_features))  # Random features for nodes\n",
    "edge_index = torch.tensor([[0, 1, 2, 3, 0, 2], [1, 0, 3, 2, 2, 0]], dtype=torch.long)  # Edges in COO format\n",
    "\n",
    "print(\"Node Features:\")\n",
    "print(x)\n",
    "print(\"Edge Index:\")\n",
    "print(edge_index)\n",
    "\n",
    "# Instantiate the networks (assuming appropriate parameters)\n",
    "action_net = ActionNetwork(in_channels=num_features, hidden_dim=5, num_hidden_layers=2, out_channels=4)\n",
    "env_net = EnvironmentNetwork(in_channels=num_features, hidden_dim=5, out_channels=num_features, num_layers=2)\n",
    "\n",
    "# Forward pass through the action network to get action probabilities\n",
    "action_probabilities = action_net(x, edge_index)\n",
    "\n",
    "# chosing the action with the highest probability for each node\n",
    "_, actions = action_probabilities.max(dim=1)\n",
    "\n",
    "print(\"Actions chosen for each node:\")\n",
    "print(actions)\n",
    "\n",
    "# Assume we have predefined actions based on an external decision or prior knowledge\n",
    "# Actions: Standard (S=0), Listen (L=1), Broadcast (B=2), Isolate (I=3)\n",
    "# actions = torch.tensor([0, 1, 2, 3])  # One action per node\n",
    "\n",
    "# Define a mapping function for actions to neighbors\n",
    "def get_neighbors_to_consider(edge_index, actions):\n",
    "    mask = (actions[edge_index[1]] == 0) | (actions[edge_index[1]] == 2)  # Consider if action is S or B\n",
    "    new_edge_index = edge_index[:, mask]\n",
    "    return new_edge_index\n",
    "\n",
    "# Apply the environment network with the selected actions\n",
    "new_edge_index = get_neighbors_to_consider(edge_index, actions)\n",
    "updated_x = env_net(x, new_edge_index)\n",
    "\n",
    "# Print the updated node features\n",
    "print(\"Updated node features:\")\n",
    "print(updated_x)\n"
   ]
  },
  {
   "cell_type": "markdown",
   "metadata": {},
   "source": [
    "# CO-GNN"
   ]
  },
  {
   "cell_type": "markdown",
   "metadata": {},
   "source": [
    "## Testando interação entre as duas redes sem usar a Gumbel Softmax"
   ]
  },
  {
   "cell_type": "code",
   "execution_count": 31,
   "metadata": {},
   "outputs": [],
   "source": [
    "import torch\n",
    "from torch_geometric.data import Data\n",
    "\n",
    "class CO_GNN(torch.nn.Module):\n",
    "    def __init__(self, action_network, environment_network):\n",
    "        \"\"\"\n",
    "        Initialize the Cooperative Graph Neural Network (CO-GNN) which uses two GNNs:\n",
    "        (i) An action network (π) for choosing the best actions.\n",
    "        (ii) An environment network (η) for updating the node representations.\n",
    "\n",
    "        Parameters:\n",
    "            action_network (torch.nn.Module): The GNN to determine actions.\n",
    "            environment_network (torch.nn.Module): The GNN to update node states based on actions.\n",
    "        \"\"\"\n",
    "        super(CO_GNN, self).__init__()\n",
    "        self.action_network = action_network\n",
    "        self.environment_network = environment_network\n",
    "\n",
    "    def forward(self, data):\n",
    "        \"\"\"\n",
    "        Forward pass of the CO-GNN layer.\n",
    "\n",
    "        Parameters:\n",
    "            data (Data): A PyTorch Geometric Data object containing:\n",
    "                         - x (Tensor): Node features.\n",
    "                         - edge_index (Tensor): Graph connectivity in COO format.\n",
    "\n",
    "        Returns:\n",
    "            Tensor: Updated node representations.\n",
    "        \"\"\"\n",
    "        x, edge_index = data.x, data.edge_index\n",
    "\n",
    "        # Step 1: Action network predicts the probability distribution over actions\n",
    "        action_probs = self.action_network(x, edge_index)\n",
    "        \n",
    "        # Step 2: Sample actions using argmax for simplicity (instead of straight-through Gumbel-Softmax)\n",
    "        actions = torch.argmax(action_probs, dim=1)\n",
    "        \n",
    "        # Determine neighbors to consider based on the actions sampled\n",
    "        mask = (actions[edge_index[0]] == 0) | (actions[edge_index[0]] == 2)  # Only neighbors with S (0) or B (2)\n",
    "        new_edge_index = edge_index[:, mask]\n",
    "\n",
    "        # Step 3: Update node states based on actions\n",
    "        updated_x = self.environment_network(x, new_edge_index)\n",
    "\n",
    "        return updated_x\n"
   ]
  },
  {
   "cell_type": "code",
   "execution_count": 32,
   "metadata": {},
   "outputs": [
    {
     "name": "stdout",
     "output_type": "stream",
     "text": [
      "tensor([[-0.2282, -0.3109,  0.1727],\n",
      "        [-0.2278, -0.2887,  0.1922],\n",
      "        [-0.1495, -0.1961,  0.1290],\n",
      "        [-0.0789, -0.1120,  0.0698]], grad_fn=<AddBackward0>)\n"
     ]
    }
   ],
   "source": [
    "# Assume that action_net and env_net have been defined and instantiated appropriately\n",
    "# Example:\n",
    "action_net = ActionNetwork(in_channels=3, hidden_dim=5, num_hidden_layers=2, out_channels=4)\n",
    "env_net = EnvironmentNetwork(in_channels=3, hidden_dim=5, out_channels=3, num_layers=2)\n",
    "\n",
    "co_gnn = CO_GNN(action_network=action_net, environment_network=env_net)\n",
    "data = Data(x=torch.rand(4, 3), edge_index=torch.tensor([[0, 1, 2, 3, 0, 2], [1, 0, 3, 2, 2, 0]], dtype=torch.long))\n",
    "updated_features = co_gnn(data)\n",
    "print(updated_features)\n"
   ]
  },
  {
   "cell_type": "markdown",
   "metadata": {},
   "source": [
    "## Versão final da CO-GNN (treinável e com Gumbel Softmax)"
   ]
  },
  {
   "cell_type": "code",
   "execution_count": 33,
   "metadata": {},
   "outputs": [],
   "source": [
    "import torch\n",
    "from torch_geometric.data import Data\n",
    "import torch.nn.functional as F\n",
    "\n",
    "def gumbel_softmax(logits, tau=1.0, hard=False, dim=-1):\n",
    "    \"\"\"\n",
    "    Amostragem Gumbel-Softmax para ações discretas.\n",
    "    \"\"\"\n",
    "    gumbels = -torch.empty_like(logits).exponential_().log()  # Amostras Gumbel\n",
    "    gumbels = (logits + gumbels) / tau  # Aplica a temperatura tau\n",
    "    y_soft = gumbels.softmax(dim)\n",
    "\n",
    "    if hard:\n",
    "        # Straight-through Gumbel-Softmax\n",
    "        index = y_soft.max(dim, keepdim=True)[1]\n",
    "        y_hard = torch.zeros_like(logits).scatter_(dim, index, 1.0)\n",
    "        ret = y_hard - y_soft.detach() + y_soft\n",
    "    else:\n",
    "        ret = y_soft\n",
    "    return ret\n",
    "\n",
    "class CO_GNN(torch.nn.Module):\n",
    "    def __init__(self, action_network, environment_network, tau=1.0):\n",
    "        super(CO_GNN, self).__init__()\n",
    "        self.action_network = action_network\n",
    "        self.environment_network = environment_network\n",
    "        self.tau = tau  # Temperatura Gumbel-Softmax\n",
    "\n",
    "    def forward(self, data):\n",
    "        x, edge_index = data.x, data.edge_index\n",
    "        action_logits = self.action_network(x, edge_index)\n",
    "        actions = gumbel_softmax(action_logits, tau=self.tau, hard=True) \n",
    "\n",
    "        # Filtrar arestas com base nas ações (Padrão ou Transmissão)\n",
    "        actions_argmax = actions.argmax(dim=1)\n",
    "        mask = (actions_argmax[edge_index[0]] == 0) | (actions_argmax[edge_index[0]] == 2)\n",
    "        new_edge_index = edge_index[:, mask]\n",
    "\n",
    "        updated_x = self.environment_network(x, new_edge_index)\n",
    "        return updated_x\n"
   ]
  },
  {
   "cell_type": "markdown",
   "metadata": {},
   "source": [
    "## Verificando se é possível fazer backpropagation"
   ]
  },
  {
   "cell_type": "code",
   "execution_count": 84,
   "metadata": {},
   "outputs": [
    {
     "name": "stdout",
     "output_type": "stream",
     "text": [
      "Gradients on input features: tensor([[-0.1913,  0.0660, -0.1566],\n",
      "        [-2.1367,  0.7625, -1.8029],\n",
      "        [-0.3467,  0.1069, -0.2718],\n",
      "        [-0.2368,  0.0677, -0.1352]])\n"
     ]
    }
   ],
   "source": [
    "torch.manual_seed(123)\n",
    "x = torch.randn(4, 3, requires_grad=True)\n",
    "edge_index = torch.tensor([[0, 1, 2, 3, 0, 2], [1, 0, 3, 2, 2, 0]], dtype=torch.long)\n",
    "\n",
    "action_net = ActionNetwork(in_channels=3, hidden_dim=5, num_hidden_layers=2, out_channels=4)\n",
    "env_net = EnvironmentNetwork(in_channels=3, hidden_dim=5, out_channels=3, num_layers=2)\n",
    "co_gnn = CO_GNN(action_network=action_net, environment_network=env_net)\n",
    "\n",
    "data = Data(x=x, edge_index=edge_index)\n",
    "out = co_gnn(data)\n",
    "loss = out.sum()\n",
    "loss.backward()\n",
    "\n",
    "print(\"Gradients on input features:\", x.grad)\n"
   ]
  },
  {
   "cell_type": "markdown",
   "metadata": {},
   "source": [
    "# Avaliando o modelo"
   ]
  },
  {
   "cell_type": "markdown",
   "metadata": {},
   "source": [
    "## Carregando dataset para avaliar o modelo"
   ]
  },
  {
   "cell_type": "code",
   "execution_count": 99,
   "metadata": {},
   "outputs": [
    {
     "name": "stdout",
     "output_type": "stream",
     "text": [
      "Data(x=[22662, 300], edge_index=[2, 32927], y=[22662], train_mask=[22662, 10], val_mask=[22662, 10], test_mask=[22662, 10])\n"
     ]
    }
   ],
   "source": [
    "import torch\n",
    "from torch_geometric.data import Data\n",
    "\n",
    "# Load the data\n",
    "data, _ = torch.load(\"roman_empire.pt\")\n",
    "\n",
    "# Use only the first 10 features of each node\n",
    "data.x = data.x[:, :300]\n",
    "\n",
    "# Checking the dataset\n",
    "print(data)\n",
    "\n",
    "\n"
   ]
  },
  {
   "cell_type": "markdown",
   "metadata": {},
   "source": [
    "## Definindo as redes"
   ]
  },
  {
   "cell_type": "code",
   "execution_count": 103,
   "metadata": {},
   "outputs": [],
   "source": [
    "num_features = 300  # Updated number of features\n",
    "num_classes = data.y.max().item() + 1  # Number of classes for the classification task\n",
    "\n",
    "# Redefine the action and environment networks\n",
    "action_net = ActionNetwork(in_channels=num_features, hidden_dim=4, num_hidden_layers=2, out_channels=4)\n",
    "env_net = EnvironmentNetwork(in_channels=num_features, hidden_dim=32, out_channels=num_classes, num_layers=4)\n",
    "model = CO_GNN(action_network=action_net, environment_network=env_net)\n"
   ]
  },
  {
   "cell_type": "markdown",
   "metadata": {},
   "source": [
    "## Fazendo treino e teste"
   ]
  },
  {
   "cell_type": "code",
   "execution_count": 104,
   "metadata": {},
   "outputs": [
    {
     "name": "stdout",
     "output_type": "stream",
     "text": [
      "Epoch 5000, Loss: 1.6546, Train Acc: 0.5005, Val Acc: 0.4664, Test Acc: 0.4606                                      \r"
     ]
    }
   ],
   "source": [
    "\n",
    "import torch.optim as optim\n",
    "from torch.nn.functional import cross_entropy\n",
    "\n",
    "optimizer = optim.Adam(model.parameters(), lr=0.001, weight_decay=5e-4)\n",
    "\n",
    "def train(model, data, mask_index=0):\n",
    "    model.train()\n",
    "    optimizer.zero_grad()\n",
    "    out = model(data)\n",
    "    # Use only the first mask (if that's the correct one to use)\n",
    "    loss = cross_entropy(out[data.train_mask[:, mask_index]], data.y[data.train_mask[:, mask_index]])\n",
    "    loss.backward()\n",
    "    optimizer.step()\n",
    "    return loss.item()\n",
    "\n",
    "def evaluate(model, data, mask_index=0):\n",
    "    model.eval()\n",
    "    with torch.no_grad():\n",
    "        out = model(data)\n",
    "        pred = out.argmax(dim=1)\n",
    "        train_acc = pred[data.train_mask[:, mask_index]].eq(data.y[data.train_mask[:, mask_index]]).sum().item() / data.train_mask[:, mask_index].sum().item()\n",
    "        val_acc = pred[data.val_mask[:, mask_index]].eq(data.y[data.val_mask[:, mask_index]]).sum().item() / data.val_mask[:, mask_index].sum().item()\n",
    "        test_acc = pred[data.test_mask[:, mask_index]].eq(data.y[data.test_mask[:, mask_index]]).sum().item() / data.test_mask[:, mask_index].sum().item()\n",
    "    return train_acc, val_acc, test_acc\n",
    "\n",
    "losses = []\n",
    "\n",
    "# You can now run the training and evaluation loop:\n",
    "for epoch in range(5000):\n",
    "    loss = train(model, data)\n",
    "    losses.append(loss)\n",
    "    train_acc, val_acc, test_acc = evaluate(model, data)\n",
    "    print(f'Epoch {epoch+1}, Loss: {loss:.4f}, Train Acc: {train_acc:.4f}, Val Acc: {val_acc:.4f}, Test Acc: {test_acc:.4f}                                      ', end='\\r')\n",
    "\n",
    "\n"
   ]
  },
  {
   "cell_type": "markdown",
   "metadata": {},
   "source": [
    "## Plotando a evolução da Loss"
   ]
  },
  {
   "cell_type": "code",
   "execution_count": 105,
   "metadata": {},
   "outputs": [
    {
     "data": {
      "text/plain": [
       "[<matplotlib.lines.Line2D at 0x293b29fa090>]"
      ]
     },
     "execution_count": 105,
     "metadata": {},
     "output_type": "execute_result"
    },
    {
     "data": {
      "image/png": "[encoded data removed]",
      "text/plain": [
       "<Figure size 640x480 with 1 Axes>"
      ]
     },
     "metadata": {},
     "output_type": "display_data"
    }
   ],
   "source": [
    "import matplotlib.pyplot as plt\n",
    "\n",
    "plt.plot(losses)"
   ]
  }
 ],
 "metadata": {
  "kernelspec": {
   "display_name": "Python 3",
   "language": "python",
   "name": "python3"
  },
  "language_info": {
   "codemirror_mode": {
    "name": "ipython",
    "version": 3
   },
   "file_extension": ".py",
   "mimetype": "text/x-python",
   "name": "python",
   "nbconvert_exporter": "python",
   "pygments_lexer": "ipython3",
   "version": "3.12.1"
  }
 },
 "nbformat": 4,
 "nbformat_minor": 2
}
